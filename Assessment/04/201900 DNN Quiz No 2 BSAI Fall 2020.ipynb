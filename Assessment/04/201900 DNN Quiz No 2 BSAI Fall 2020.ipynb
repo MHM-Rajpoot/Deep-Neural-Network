{
  "metadata": {
    "kernelspec": {
      "display_name": "Python 3",
      "name": "python3"
    },
    "language_info": {
      "pygments_lexer": "ipython3",
      "nbconvert_exporter": "python",
      "version": "3.6.4",
      "file_extension": ".py",
      "codemirror_mode": {
        "name": "ipython",
        "version": 3
      },
      "name": "python",
      "mimetype": "text/x-python"
    },
    "kaggle": {
      "accelerator": "gpu",
      "dataSources": [],
      "dockerImageVersionId": 30028,
      "isInternetEnabled": false,
      "language": "python",
      "sourceType": "notebook",
      "isGpuEnabled": true
    },
    "colab": {
      "provenance": [],
      "gpuType": "T4"
    },
    "accelerator": "GPU"
  },
  "nbformat_minor": 0,
  "nbformat": 4,
  "cells": [
    {
      "cell_type": "markdown",
      "source": [
        "# Recurrent Neural Networks with Keras\n",
        "\n",
        "## Sentiment Analysis from Movie Reviews\n",
        "\n",
        "This notebook draws inspiration from the imdb_lstm.py example included with Keras.\n",
        "\n",
        "It serves as an excellent illustration of RNNs. The dataset utilized contains user-generated movie reviews along with classifications indicating whether the user liked the movie based on its associated rating.\n",
        "\n",
        "For more details on the dataset, refer to [this link](https://keras.io/datasets/#imdb-movie-reviews-sentiment-classification).\n",
        "\n",
        "We're employing an RNN to conduct sentiment analysis on full-text movie reviews.\n",
        "\n",
        "Consider the significance of this task. We're training an artificial neural network to comprehend movie reviews and infer whether the author enjoyed the movie.\n",
        "\n",
        "Understanding written language entails maintaining a record of all the words in a sentence. Thus, we require a recurrent neural network to retain a \"memory\" of preceding words as it processes sentences over time.\n",
        "\n",
        "Specifically, we'll utilize LSTM (Long Short-Term Memory) cells because we aim to preserve information from words encountered earlier in a sentence, as they can significantly influence its meaning.\n",
        "\n",
        "Let's begin by importing the necessary components:\n"
      ],
      "metadata": {
        "id": "poCEGt6pifg9"
      }
    },
    {
      "cell_type": "code",
      "source": [
        "# preprocessing module of the sequential model, so we can embed those different layers toghether\n",
        "import numpy as np\n",
        "import json\n",
        "import random\n",
        "\n",
        "from tensorflow.keras.preprocessing import sequence\n",
        "from tensorflow.keras.models import Sequential\n",
        "from tensorflow.keras.layers import Dense, Embedding\n",
        "from tensorflow.keras.layers import LSTM\n",
        "from tensorflow.keras.datasets import imdb\n",
        "from keras.models import load_model\n",
        "from tensorflow.keras.utils import plot_model"
      ],
      "metadata": {
        "trusted": true,
        "id": "G8RVgv_xifhE"
      },
      "execution_count": null,
      "outputs": []
    },
    {
      "cell_type": "markdown",
      "source": [
        "Importing the training and testing data, limiting to the top 20,000 most popular words for manageability.\n",
        "The dataset comprises 25000 training reviews and 5000 testing reviews.\n",
        "\n"
      ],
      "metadata": {
        "id": "naUiHxwzifhH"
      }
    },
    {
      "cell_type": "code",
      "source": [
        "# num_words: how many unique words that you want to load into your training and testing dataset\n",
        "(x_train, y_train), (x_test, y_test) = imdb.load_data(num_words=20000)\n",
        "\n",
        "# Get the word index\n",
        "word_index = imdb.get_word_index(path=\"imdb_word_index.json\")\n",
        "\n",
        "# Reverse the word index to map indices to words\n",
        "reverse_word_index = dict([(value, key) for (key, value) in word_index.items()])"
      ],
      "metadata": {
        "trusted": true,
        "colab": {
          "base_uri": "https://localhost:8080/"
        },
        "id": "WwHr2D2kifhI",
        "outputId": "72a569d5-488a-4121-e563-db482f90f7fa"
      },
      "execution_count": null,
      "outputs": [
        {
          "output_type": "stream",
          "name": "stdout",
          "text": [
            "Downloading data from https://storage.googleapis.com/tensorflow/tf-keras-datasets/imdb.npz\n",
            "17464789/17464789 [==============================] - 0s 0us/step\n",
            "Downloading data from https://storage.googleapis.com/tensorflow/tf-keras-datasets/imdb_word_index.json\n",
            "1641221/1641221 [==============================] - 0s 0us/step\n"
          ]
        }
      ]
    },
    {
      "cell_type": "markdown",
      "source": [
        "In machine learning, models typically operate with numerical data rather than words. Therefore, it's necessary to convert words to numbers as an initial step. Thankfully, Keras has already handled this pre-processing for us.\n"
      ],
      "metadata": {
        "id": "4J3sOC8PifhI"
      }
    },
    {
      "cell_type": "code",
      "source": [
        "x_train[1337],len(x_train[1337])"
      ],
      "metadata": {
        "trusted": true,
        "colab": {
          "base_uri": "https://localhost:8080/"
        },
        "id": "QkvF33W5ifhJ",
        "outputId": "e2283fd6-4873-4519-c098-008205e313cf"
      },
      "execution_count": null,
      "outputs": [
        {
          "output_type": "execute_result",
          "data": {
            "text/plain": [
              "([1,\n",
              "  3934,\n",
              "  1659,\n",
              "  2173,\n",
              "  9,\n",
              "  6,\n",
              "  2,\n",
              "  6282,\n",
              "  8258,\n",
              "  2930,\n",
              "  8,\n",
              "  521,\n",
              "  18,\n",
              "  2217,\n",
              "  31,\n",
              "  251,\n",
              "  190,\n",
              "  29,\n",
              "  571,\n",
              "  725,\n",
              "  35,\n",
              "  154,\n",
              "  312,\n",
              "  396,\n",
              "  19275,\n",
              "  773,\n",
              "  2,\n",
              "  2,\n",
              "  4289,\n",
              "  2065,\n",
              "  9,\n",
              "  35,\n",
              "  3604,\n",
              "  5,\n",
              "  1344,\n",
              "  1576,\n",
              "  2133,\n",
              "  19,\n",
              "  6,\n",
              "  1334,\n",
              "  393,\n",
              "  5,\n",
              "  35,\n",
              "  1724,\n",
              "  1103,\n",
              "  3934,\n",
              "  9,\n",
              "  9807,\n",
              "  29,\n",
              "  6261,\n",
              "  2,\n",
              "  8,\n",
              "  413,\n",
              "  27,\n",
              "  5294,\n",
              "  21,\n",
              "  80,\n",
              "  2,\n",
              "  28,\n",
              "  8,\n",
              "  3552,\n",
              "  41,\n",
              "  8166,\n",
              "  7,\n",
              "  4374,\n",
              "  11,\n",
              "  4,\n",
              "  182,\n",
              "  7,\n",
              "  2420,\n",
              "  121,\n",
              "  183,\n",
              "  26,\n",
              "  24,\n",
              "  210,\n",
              "  51,\n",
              "  36,\n",
              "  306,\n",
              "  8,\n",
              "  30,\n",
              "  5,\n",
              "  80,\n",
              "  59,\n",
              "  30,\n",
              "  502,\n",
              "  8,\n",
              "  15144,\n",
              "  4,\n",
              "  2,\n",
              "  7,\n",
              "  6,\n",
              "  2494,\n",
              "  1776,\n",
              "  19069,\n",
              "  14,\n",
              "  9,\n",
              "  669,\n",
              "  6,\n",
              "  327,\n",
              "  883,\n",
              "  18,\n",
              "  148,\n",
              "  37,\n",
              "  6467,\n",
              "  2953,\n",
              "  7,\n",
              "  5499,\n",
              "  3934,\n",
              "  5,\n",
              "  2,\n",
              "  26,\n",
              "  427,\n",
              "  11,\n",
              "  119,\n",
              "  5,\n",
              "  68,\n",
              "  6158,\n",
              "  5,\n",
              "  2599,\n",
              "  26,\n",
              "  6,\n",
              "  52,\n",
              "  650,\n",
              "  190,\n",
              "  261,\n",
              "  4,\n",
              "  20,\n",
              "  497,\n",
              "  8,\n",
              "  123,\n",
              "  4,\n",
              "  993,\n",
              "  113,\n",
              "  11,\n",
              "  94,\n",
              "  635,\n",
              "  12,\n",
              "  152,\n",
              "  340,\n",
              "  3115,\n",
              "  14463,\n",
              "  4,\n",
              "  365,\n",
              "  1234,\n",
              "  26,\n",
              "  312,\n",
              "  5,\n",
              "  4,\n",
              "  229,\n",
              "  9,\n",
              "  55,\n",
              "  14540,\n",
              "  398,\n",
              "  19,\n",
              "  134,\n",
              "  14618,\n",
              "  5,\n",
              "  4,\n",
              "  2252,\n",
              "  2,\n",
              "  7,\n",
              "  2065,\n",
              "  5,\n",
              "  2173,\n",
              "  148,\n",
              "  37,\n",
              "  870,\n",
              "  180,\n",
              "  8,\n",
              "  4,\n",
              "  22,\n",
              "  80,\n",
              "  169,\n",
              "  12,\n",
              "  8,\n",
              "  30,\n",
              "  52,\n",
              "  722],\n",
              " 178)"
            ]
          },
          "metadata": {},
          "execution_count": 6
        }
      ]
    },
    {
      "cell_type": "markdown",
      "source": [
        "The labels in our dataset represent binary sentiment classifications, where 0 indicates a negative sentiment (the reviewer did not like the movie) and 1 indicates a positive sentiment (the reviewer liked the movie). These labels serve as the target variable for our sentiment analysis task."
      ],
      "metadata": {
        "id": "g9XhFumLifhJ"
      }
    },
    {
      "cell_type": "code",
      "source": [
        "y_train[1337]"
      ],
      "metadata": {
        "trusted": true,
        "colab": {
          "base_uri": "https://localhost:8080/"
        },
        "id": "vyayxZb3ifhK",
        "outputId": "99a25137-c5fc-4243-a7cf-864ed5d670e1"
      },
      "execution_count": null,
      "outputs": [
        {
          "output_type": "execute_result",
          "data": {
            "text/plain": [
              "1"
            ]
          },
          "metadata": {},
          "execution_count": 7
        }
      ]
    },
    {
      "cell_type": "markdown",
      "source": [
        "In summary, we're dealing with movie reviews represented as sequences of integers and corresponding binary sentiment classifications (0 or 1), indicating whether the reviewer liked the movie.\n",
        "\n",
        "Given the potential computational complexity of RNNs, we'll constrain our analysis to the first 80 words of each review to maintain manageability on our PC.\n"
      ],
      "metadata": {
        "id": "IGloT1nzifhL"
      }
    },
    {
      "cell_type": "code",
      "source": [
        "x_train = sequence.pad_sequences(x_train, maxlen=80)\n",
        "x_test = sequence.pad_sequences(x_test, maxlen=80)"
      ],
      "metadata": {
        "trusted": true,
        "id": "7WUIkz3jifhM"
      },
      "execution_count": null,
      "outputs": []
    },
    {
      "cell_type": "markdown",
      "source": [
        "Setting up a neural network model with Keras is surprisingly simple, even for a complicated architecture like LSTM recurrent neural networks.\n",
        "\n",
        "We begin with an Embedding layer, which converts input data into dense vectors of fixed size. This is particularly useful for index-based text data like ours. We specify a vocabulary size of 20,000 and an output dimension of 128 units.\n",
        "\n",
        "Next, we add an LSTM layer for the recurrent neural network itself. We set the output size to 128 to match the output of the Embedding layer, and include dropout terms to prevent overfitting, a common issue with RNNs.\n",
        "\n",
        "Finally, we reduce it to a single neuron with a sigmoid activation function for binary sentiment classification (0 or 1).\n"
      ],
      "metadata": {
        "id": "EJtgIbIsifhN"
      }
    },
    {
      "cell_type": "code",
      "source": [
        "model = Sequential()\n",
        "model.add(Embedding(20000, 128))\n",
        "model.add(LSTM(128, dropout=0.2, recurrent_dropout=0.2))\n",
        "model.add(Dense(1, activation='sigmoid'))"
      ],
      "metadata": {
        "trusted": true,
        "colab": {
          "base_uri": "https://localhost:8080/"
        },
        "id": "KR8aPzCxifhN",
        "outputId": "69659baf-a130-452b-ff2d-e2d791d790d0"
      },
      "execution_count": null,
      "outputs": [
        {
          "output_type": "stream",
          "name": "stderr",
          "text": [
            "WARNING:tensorflow:Layer lstm will not use cuDNN kernels since it doesn't meet the criteria. It will use a generic GPU kernel as fallback when running on GPU.\n"
          ]
        }
      ]
    },
    {
      "cell_type": "markdown",
      "source": [
        "As this is a binary classification problem, we'll employ the binary_crossentropy loss function. The Adam optimizer is typically a good choice (although you can experiment with others).\n"
      ],
      "metadata": {
        "id": "z10DnwZ2ifhN"
      }
    },
    {
      "cell_type": "code",
      "source": [
        "# Plot the model architecture\n",
        "plot_model(model, to_file='model_plot.png', show_shapes=True, show_layer_names=True)"
      ],
      "metadata": {
        "colab": {
          "base_uri": "https://localhost:8080/",
          "height": 422
        },
        "id": "MiRCh6ZPfGCY",
        "outputId": "6796d329-ca2c-459e-db57-2f3939f0ffbf"
      },
      "execution_count": null,
      "outputs": [
        {
          "output_type": "execute_result",
          "data": {
            "image/png": "[encoded data removed]",
            "text/plain": [
              "<IPython.core.display.Image object>"
            ]
          },
          "metadata": {},
          "execution_count": 6
        }
      ]
    },
    {
      "cell_type": "code",
      "source": [
        "model.compile(loss='binary_crossentropy',\n",
        "              optimizer='adam',\n",
        "              metrics=['accuracy'])"
      ],
      "metadata": {
        "trusted": true,
        "id": "JdSyjXHQifhO"
      },
      "execution_count": null,
      "outputs": []
    },
    {
      "cell_type": "code",
      "source": [
        "model.summary()"
      ],
      "metadata": {
        "colab": {
          "base_uri": "https://localhost:8080/"
        },
        "id": "idRxzOi5fmla",
        "outputId": "8b6f8bed-cd13-44eb-e90f-524cc960fc9a"
      },
      "execution_count": null,
      "outputs": [
        {
          "output_type": "stream",
          "name": "stdout",
          "text": [
            "Model: \"sequential\"\n",
            "_________________________________________________________________\n",
            " Layer (type)                Output Shape              Param #   \n",
            "=================================================================\n",
            " embedding (Embedding)       (None, None, 128)         2560000   \n",
            "                                                                 \n",
            " lstm (LSTM)                 (None, 128)               131584    \n",
            "                                                                 \n",
            " dense (Dense)               (None, 1)                 129       \n",
            "                                                                 \n",
            "=================================================================\n",
            "Total params: 2691713 (10.27 MB)\n",
            "Trainable params: 2691713 (10.27 MB)\n",
            "Non-trainable params: 0 (0.00 Byte)\n",
            "_________________________________________________________________\n"
          ]
        }
      ]
    },
    {
      "cell_type": "markdown",
      "source": [
        "# Embedding Layer:\n",
        " - Converts integer indices representing words into dense vectors of fixed size.\n",
        " - Learns dense representations of words, capturing semantic relationships.\n",
        " - Helps the model understand contextual meaning of words in the input sequence.\n",
        "model.add(Embedding(20000, 128))\n",
        "\n",
        "# LSTM Layer:\n",
        " - Processes sequential data, capturing temporal dependencies between words.\n",
        " - Capable of learning long-term dependencies in sequential data.\n",
        " - Dropout and recurrent dropout parameters prevent overfitting.\n",
        " - Effectively captures contextual information and sequential patterns.\n",
        "model.add(LSTM(128, dropout=0.2, recurrent_dropout=0.2))\n",
        "\n",
        "# Dense Layer:\n",
        " - Standard fully connected layer that performs classification/regression.\n",
        " - Applies a linear transformation followed by an activation function.\n",
        " - Learns complex decision boundaries based on features learned by preceding layers.\n",
        " - Outputs a probability score indicating likelihood of input sequence belonging to a class.\n",
        "model.add(Dense(1, activation='sigmoid'))\n"
      ],
      "metadata": {
        "id": "TO-2fZ8ggqrn"
      }
    },
    {
      "cell_type": "markdown",
      "source": [
        "Now we're ready to train our model. RNNs, like CNNs, are resource-intensive. Maintaining a small batch size is crucial for running this on your PC. To scale better, leverage GPUs across computers in a cluster.\n",
        "\n",
        "## Warning\n",
        "\n",
        "Executing the next blocks will take a long time, even on a fast PC! Proceed only if you're willing to tie up your computer for an hour or more.\n"
      ],
      "metadata": {
        "id": "ImS3hzucifhO"
      }
    },
    {
      "cell_type": "markdown",
      "source": [
        "Now let's kick off the training. Even with a GPU, this will take a long time!"
      ],
      "metadata": {
        "id": "Hlf1S7gZifhO"
      }
    },
    {
      "cell_type": "code",
      "source": [
        "model.fit(x_train, y_train,\n",
        "          batch_size=32,\n",
        "          epochs=15,\n",
        "          verbose=2,\n",
        "          validation_data=(x_test, y_test))"
      ],
      "metadata": {
        "trusted": true,
        "colab": {
          "base_uri": "https://localhost:8080/"
        },
        "id": "TOWrvS9gifhO",
        "outputId": "9f2d8017-050b-49f1-b04e-553867f1f49a"
      },
      "execution_count": null,
      "outputs": [
        {
          "output_type": "stream",
          "name": "stdout",
          "text": [
            "Epoch 1/15\n",
            "782/782 - 230s - loss: 0.4232 - accuracy: 0.8014 - val_loss: 0.3863 - val_accuracy: 0.8368 - 230s/epoch - 294ms/step\n",
            "Epoch 2/15\n",
            "782/782 - 212s - loss: 0.2524 - accuracy: 0.8991 - val_loss: 0.3737 - val_accuracy: 0.8365 - 212s/epoch - 271ms/step\n",
            "Epoch 3/15\n",
            "782/782 - 208s - loss: 0.1675 - accuracy: 0.9380 - val_loss: 0.5574 - val_accuracy: 0.8138 - 208s/epoch - 265ms/step\n",
            "Epoch 4/15\n",
            "782/782 - 207s - loss: 0.1089 - accuracy: 0.9610 - val_loss: 0.6462 - val_accuracy: 0.8138 - 207s/epoch - 264ms/step\n",
            "Epoch 5/15\n",
            "782/782 - 211s - loss: 0.0756 - accuracy: 0.9741 - val_loss: 0.6275 - val_accuracy: 0.8166 - 211s/epoch - 270ms/step\n",
            "Epoch 6/15\n",
            "782/782 - 211s - loss: 0.0514 - accuracy: 0.9832 - val_loss: 0.6423 - val_accuracy: 0.8027 - 211s/epoch - 270ms/step\n",
            "Epoch 7/15\n",
            "782/782 - 208s - loss: 0.0460 - accuracy: 0.9849 - val_loss: 0.7061 - val_accuracy: 0.8141 - 208s/epoch - 266ms/step\n",
            "Epoch 8/15\n",
            "782/782 - 208s - loss: 0.0244 - accuracy: 0.9924 - val_loss: 1.0513 - val_accuracy: 0.8134 - 208s/epoch - 267ms/step\n",
            "Epoch 9/15\n",
            "782/782 - 207s - loss: 0.0220 - accuracy: 0.9932 - val_loss: 0.8941 - val_accuracy: 0.8020 - 207s/epoch - 264ms/step\n",
            "Epoch 10/15\n",
            "782/782 - 211s - loss: 0.0190 - accuracy: 0.9945 - val_loss: 1.0421 - val_accuracy: 0.8167 - 211s/epoch - 269ms/step\n",
            "Epoch 11/15\n",
            "782/782 - 212s - loss: 0.0186 - accuracy: 0.9941 - val_loss: 1.0290 - val_accuracy: 0.8083 - 212s/epoch - 271ms/step\n",
            "Epoch 12/15\n",
            "782/782 - 209s - loss: 0.0156 - accuracy: 0.9953 - val_loss: 0.9681 - val_accuracy: 0.8060 - 209s/epoch - 267ms/step\n",
            "Epoch 13/15\n",
            "782/782 - 208s - loss: 0.0128 - accuracy: 0.9958 - val_loss: 1.0094 - val_accuracy: 0.8081 - 208s/epoch - 266ms/step\n",
            "Epoch 14/15\n",
            "782/782 - 210s - loss: 0.0084 - accuracy: 0.9974 - val_loss: 1.3653 - val_accuracy: 0.8094 - 210s/epoch - 268ms/step\n",
            "Epoch 15/15\n",
            "782/782 - 208s - loss: 0.0090 - accuracy: 0.9971 - val_loss: 1.0490 - val_accuracy: 0.8096 - 208s/epoch - 266ms/step\n"
          ]
        },
        {
          "output_type": "execute_result",
          "data": {
            "text/plain": [
              "<keras.src.callbacks.History at 0x7b9d285e5ed0>"
            ]
          },
          "metadata": {},
          "execution_count": 8
        }
      ]
    },
    {
      "cell_type": "markdown",
      "source": [
        "OK, let's evaluate our model's accuracy:"
      ],
      "metadata": {
        "id": "Kqoj5vjMifhP"
      }
    },
    {
      "cell_type": "code",
      "source": [
        "# Save the model\n",
        "model.save(\"my_model.h5\")"
      ],
      "metadata": {
        "colab": {
          "base_uri": "https://localhost:8080/"
        },
        "id": "Hc7ePv-yx6mk",
        "outputId": "113ab4a8-c8af-4757-fd89-b61a72b5ef0d"
      },
      "execution_count": null,
      "outputs": [
        {
          "output_type": "stream",
          "name": "stderr",
          "text": [
            "/usr/local/lib/python3.10/dist-packages/keras/src/engine/training.py:3103: UserWarning: You are saving your model as an HDF5 file via `model.save()`. This file format is considered legacy. We recommend using instead the native Keras format, e.g. `model.save('my_model.keras')`.\n",
            "  saving_api.save_model(\n"
          ]
        }
      ]
    },
    {
      "cell_type": "code",
      "source": [
        "# Load the model\n",
        "model = load_model('my_model.h5')"
      ],
      "metadata": {
        "colab": {
          "base_uri": "https://localhost:8080/"
        },
        "id": "qVEaeyE2z_g8",
        "outputId": "aab497ea-4f48-42f1-ef48-be48839c9a54"
      },
      "execution_count": null,
      "outputs": [
        {
          "output_type": "stream",
          "name": "stderr",
          "text": [
            "WARNING:tensorflow:Layer lstm will not use cuDNN kernels since it doesn't meet the criteria. It will use a generic GPU kernel as fallback when running on GPU.\n"
          ]
        }
      ]
    },
    {
      "cell_type": "code",
      "source": [
        "score, acc = model.evaluate(x_test, y_test,\n",
        "                            batch_size=32,\n",
        "                            verbose=2)\n",
        "print('Test score:', score)\n",
        "print('Test accuracy:', acc)"
      ],
      "metadata": {
        "trusted": true,
        "colab": {
          "base_uri": "https://localhost:8080/"
        },
        "id": "p_N-S3LLifhP",
        "outputId": "7598c271-8e19-4a33-c6b2-352130d54539"
      },
      "execution_count": null,
      "outputs": [
        {
          "output_type": "stream",
          "name": "stdout",
          "text": [
            "782/782 - 20s - loss: 1.0490 - accuracy: 0.8096 - 20s/epoch - 25ms/step\n",
            "Test score: 1.0490118265151978\n",
            "Test accuracy: 0.8096399903297424\n"
          ]
        }
      ]
    },
    {
      "cell_type": "markdown",
      "source": [
        "Achieving an accuracy of 81% is quite commendable, especially considering the limitation to just the first 80 words of each review. However, it's noteworthy that the validation accuracy plateaued early in training, indicating overfitting. Employing early stopping could have mitigated this issue effectively.\n",
        "\n",
        "Nevertheless, the accomplishment is significant. We've developed a neural network capable of discerning the sentiment of movie reviews based solely on text. The model comprehends the context and positioning of words within each review, showcasing the power of Keras. Remarkably, setting up the model required only a few lines of code. It's a testament to the remarkable capabilities afforded by modern machine learning frameworks.\n"
      ],
      "metadata": {
        "id": "7rTaa7rxifhP"
      }
    },
    {
      "cell_type": "code",
      "source": [
        "x_test[0],len(x_test[0])"
      ],
      "metadata": {
        "colab": {
          "base_uri": "https://localhost:8080/"
        },
        "id": "987MvT0IxLwa",
        "outputId": "127e99d7-ed98-4804-b40a-0baf1157b199"
      },
      "execution_count": null,
      "outputs": [
        {
          "output_type": "execute_result",
          "data": {
            "text/plain": [
              "(array([    0,     0,     0,     0,     0,     0,     0,     0,     0,\n",
              "            0,     0,     0,     1,   591,   202,    14,    31,     6,\n",
              "          717,    10,    10, 18142, 10698,     5,     4,   360,     7,\n",
              "            4,   177,  5760,   394,   354,     4,   123,     9,  1035,\n",
              "         1035,  1035,    10,    10,    13,    92,   124,    89,   488,\n",
              "         7944,   100,    28,  1668,    14,    31,    23,    27,  7479,\n",
              "           29,   220,   468,     8,   124,    14,   286,   170,     8,\n",
              "          157,    46,     5,    27,   239,    16,   179, 15387,    38,\n",
              "           32,    25,  7944,   451,   202,    14,     6,   717],\n",
              "       dtype=int32),\n",
              " 80)"
            ]
          },
          "metadata": {},
          "execution_count": 6
        }
      ]
    },
    {
      "cell_type": "code",
      "source": [
        "\n",
        "def decode_review(review):\n",
        "    return ' '.join([reverse_word_index.get(i - 3, '?') for i in review])\n",
        "\n",
        "for _ in range(5):  # Loop 5 times\n",
        "\n",
        "    # Choose a random index within the range of the dataset\n",
        "    i = random.randint(0, len(x_test) - 1)\n",
        "\n",
        "    # Decode the original review from the tokenized format to words\n",
        "    original_review = decode_review(x_test[i])\n",
        "\n",
        "    # Get the corresponding ground truth label\n",
        "    ground_truth_label = y_test[i]\n",
        "\n",
        "    # Predict using the model\n",
        "    predictions = model.predict(np.expand_dims(x_test[i], axis=0))\n",
        "\n",
        "    # Assuming your model outputs probabilities for each class\n",
        "    predicted_label = np.argmax(predictions)\n",
        "\n",
        "    print('\\n\\nExample', i+1)\n",
        "    print('Original Review:', original_review)\n",
        "    print('Ground Truth Label:', ground_truth_label)\n",
        "    print('Predicted Label:', predicted_label)\n"
      ],
      "metadata": {
        "colab": {
          "base_uri": "https://localhost:8080/"
        },
        "id": "-NHAwHGFw9zm",
        "outputId": "c7264b40-9660-4440-f6d6-40016a396497"
      },
      "execution_count": null,
      "outputs": [
        {
          "output_type": "stream",
          "name": "stdout",
          "text": [
            "1/1 [==============================] - 0s 450ms/step\n",
            "\n",
            "\n",
            "Example 5023\n",
            "Original Review: the bbc creates one of their smart sensible period masterpieces like pride prejudice with colin ? which speaking for what i imagine in my opinion austen would have revered the bbc would never dare ? cheesy saxophone ? and ? girl over a shot of an historic castle and a loving embrace foster seemed to be often confused that they were editing the music to the specialist if you want austen as you love her look for the bbc logo\n",
            "Ground Truth Label: 0\n",
            "Predicted Label: 0\n",
            "1/1 [==============================] - 0s 62ms/step\n",
            "\n",
            "\n",
            "Example 365\n",
            "Original Review: in length 'the english ? wonderfully evokes memories of the classic romantic epics of old successfully finding a balance of mystery love joy and tragedy the ending of the film is heartbreaking and ? but also uplifting in its own way whilst some romantic relationships are doomed from the very beginning others have a very good chance of bringing happiness nevertheless in every case it is always better to have loved and lost than never to have loved at all\n",
            "Ground Truth Label: 1\n",
            "Predicted Label: 0\n",
            "1/1 [==============================] - 0s 57ms/step\n",
            "\n",
            "\n",
            "Example 24363\n",
            "Original Review: sleep anyway his instructions to the ensemble are downright nonsensical and when columbo asks ? ? what means she says it's it's italian as are the vast majority of musical instructions br br and finally no two great musicians would ever have the following play something what should i play ? music is their job and passion they know it well something far more specific would be asked for and offered br br i know i should get out more\n",
            "Ground Truth Label: 1\n",
            "Predicted Label: 0\n",
            "1/1 [==============================] - 0s 39ms/step\n",
            "\n",
            "\n",
            "Example 16889\n",
            "Original Review: tornado br br explosions of cars thrown onto buildings by the forces of wind look like ones from the old school side game called r type dialogues are very bad and i am interested how they managed to persuade some of the actors to play in this movie it is simply amazing how such bad movie can make it into the tv br br only real reason to watch this movie is to have some fun of nonsense and absurdity\n",
            "Ground Truth Label: 0\n",
            "Predicted Label: 0\n",
            "1/1 [==============================] - 0s 36ms/step\n",
            "\n",
            "\n",
            "Example 1831\n",
            "Original Review: and knight this is foolishly dealt with imagine the 3 bags getting high on stuff that grandson alex has left in their home and jones going to bed with someone who may qualify as her grandson br br the video game sequences are as foolish as the rest of the film the assortment of characters that alex works with is beyond belief as he enjoys his weed habit along with the others br br terrible best describes this miserable film\n",
            "Ground Truth Label: 0\n",
            "Predicted Label: 0\n"
          ]
        }
      ]
    },
    {
      "cell_type": "code",
      "source": [
        "\n",
        "def decode_review(review):\n",
        "    return ' '.join([reverse_word_index.get(i - 3, '?') for i in review])\n",
        "\n",
        "for _ in range(5):  # Loop 5 times\n",
        "\n",
        "    # Choose a random index within the range of the dataset\n",
        "    i = random.randint(0, len(x_test) - 1)\n",
        "\n",
        "    # Decode the original review from the tokenized format to words\n",
        "    original_review = decode_review(x_test[i])\n",
        "\n",
        "    # Get the corresponding ground truth label\n",
        "    ground_truth_label = y_test[i]\n",
        "\n",
        "    # Predict using the model\n",
        "    predictions = model.predict(np.expand_dims(x_test[i], axis=0))\n",
        "\n",
        "    # Assuming your model outputs probabilities for each class\n",
        "    predicted_label = np.argmax(predictions)\n",
        "\n",
        "    print('\\n\\nExample', i+1)\n",
        "    print('Original Review:', original_review)\n",
        "    print('Ground Truth Label:', ground_truth_label)\n",
        "    print('Predicted Label:', predicted_label)\n"
      ],
      "metadata": {
        "colab": {
          "base_uri": "https://localhost:8080/"
        },
        "id": "F3jPC3Xz_629",
        "outputId": "3d089bb9-6601-4b41-ed49-442b92df645d"
      },
      "execution_count": null,
      "outputs": [
        {
          "output_type": "stream",
          "name": "stdout",
          "text": [
            "1/1 [==============================] - 0s 38ms/step\n",
            "\n",
            "\n",
            "Example 10466\n",
            "Original Review: did anyone stop to think and take notice that the girl who took her life wasn't actually one of those six as one comment points out she had screen time of maybe max excluding the final scenes i think the point of the film is not only to make an issue of teenage angst and how far it can take someone but also that it is no apparently obvious who is always in danger of committing such an act suicide\n",
            "Ground Truth Label: 1\n",
            "Predicted Label: 0\n",
            "1/1 [==============================] - 0s 36ms/step\n",
            "\n",
            "\n",
            "Example 8160\n",
            "Original Review: simplistic and horrible stereotypes i have seen yet on screen and the acting isn't very good save for the father who portrays a stereotypical beer drinking sport loving american idiot perfectly br br poor acting unbelievable characters and jokes that don't catch you off guard detract from this show to a point of where it is unwatchable if you don't have cable and would like to see a comedy worth watching try boston legal it is more worth your time\n",
            "Ground Truth Label: 0\n",
            "Predicted Label: 0\n",
            "1/1 [==============================] - 0s 36ms/step\n",
            "\n",
            "\n",
            "Example 23393\n",
            "Original Review: countries they seem intent on making a political film but only show a few seconds of ? on a tv screen with no sound a nationalist agenda obviously any consideration of art which was not the case with br br regrettably i recommended this film to a teacher when it played last week at the seattle international film festival he also cited the bad editing and confusing plot and i had to apologize for the bad advice you've been warned\n",
            "Ground Truth Label: 0\n",
            "Predicted Label: 0\n",
            "1/1 [==============================] - 0s 40ms/step\n",
            "\n",
            "\n",
            "Example 14965\n",
            "Original Review: idiots br br ss is a very cartoonish silly episode so no wonder ? love it it doesn't have too many sci fi elements in it which is what ? hate the most it also figures that the st franchise chose to revive this dull character for the second movie that way pleasing rabid ? who were so very disappointed with the first movie which you guessed it had far too much sci fi for the average tiny ? brain\n",
            "Ground Truth Label: 0\n",
            "Predicted Label: 0\n",
            "1/1 [==============================] - 0s 37ms/step\n",
            "\n",
            "\n",
            "Example 21089\n",
            "Original Review: good better than the movie deserves i don't see myself watching it again anytime soon if ever there have been other movies dealing with the same concept which are better made than this one i haven't seen too many wes craven films so i can't really compare it to any of his others as for this movie itself though i think it is poorly conceived and poorly executed for me i can't give chiller a higher rating than 3 10\n",
            "Ground Truth Label: 0\n",
            "Predicted Label: 0\n"
          ]
        }
      ]
    }
  ]
}